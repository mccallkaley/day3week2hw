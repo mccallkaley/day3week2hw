{
 "cells": [
  {
   "cell_type": "markdown",
   "source": [
    "# Data Collections 2 (Dictionaries, Sets) and Importing Modules"
   ],
   "metadata": {}
  },
  {
   "cell_type": "markdown",
   "source": [
    "## Tasks Today:\n",
    "\n",
    "1) Dictionary <br>\n",
    " &nbsp;&nbsp;&nbsp;&nbsp; a) Declaring (key, value) <br>\n",
    " &nbsp;&nbsp;&nbsp;&nbsp; b) Accessing Values <br>\n",
    " &nbsp;&nbsp;&nbsp;&nbsp; ------ Exercise #1 - Print the eye color of each person in a double nested dict <br>\n",
    " &nbsp;&nbsp;&nbsp;&nbsp; c) Adding New Pairs <br>\n",
    " &nbsp;&nbsp;&nbsp;&nbsp; d) Modifying Values <br>\n",
    " &nbsp;&nbsp;&nbsp;&nbsp; e) Removing Key, Value Pairs <br>\n",
    " &nbsp;&nbsp;&nbsp;&nbsp; f) Looping a Dictionary <br>\n",
    " &nbsp;&nbsp;&nbsp;&nbsp; g) Looping Only Keys <br>\n",
    " &nbsp;&nbsp;&nbsp;&nbsp; h) Looping Only Values <br>\n",
    " &nbsp;&nbsp;&nbsp;&nbsp; ------ Exercise #2 - Create a Function that Prints All Key Value Pairs within a print .format()  <br>\n",
    " &nbsp;&nbsp;&nbsp;&nbsp; i) sorted() <br>\n",
    " &nbsp;&nbsp;&nbsp;&nbsp; j) Lists with Dictionaries <br>\n",
    " &nbsp;&nbsp;&nbsp;&nbsp; k) Dictionaries with Lists <br>\n",
    " &nbsp;&nbsp;&nbsp;&nbsp; l) Dictionaries with Dictionaries <br>\n",
    " &nbsp;&nbsp;&nbsp;&nbsp; ------ Exercise #3 - Write a Function that asks someone's name and address, and then stores that into a dictionary, which prints all names and addresses after they're done putting information in...  <br>\n",
    "2) Set <br>\n",
    " &nbsp;&nbsp;&nbsp;&nbsp; a) Declaring <br>\n",
    " &nbsp;&nbsp;&nbsp;&nbsp; b) .add() <br>\n",
    " &nbsp;&nbsp;&nbsp;&nbsp; c) .remove() <br>\n",
    " &nbsp;&nbsp;&nbsp;&nbsp; d) .union() <br>\n",
    " &nbsp;&nbsp;&nbsp;&nbsp; e) .intersection() <br>\n",
    " &nbsp;&nbsp;&nbsp;&nbsp; f) .difference() <br>\n",
    " &nbsp;&nbsp;&nbsp;&nbsp; g) Frozen Set <br>\n",
    "3) Modules <br>\n",
    " &nbsp;&nbsp;&nbsp;&nbsp; a) Importing Entire Modules <br>\n",
    " &nbsp;&nbsp;&nbsp;&nbsp; b) Importing Methods Only <br>\n",
    " &nbsp;&nbsp;&nbsp;&nbsp; c) Using the 'as' Keyword <br>\n",
    " &nbsp;&nbsp;&nbsp;&nbsp; d) Creating a Module <br>\n",
    "4) Exercises <br>\n",
    " &nbsp;&nbsp;&nbsp;&nbsp; a) Build a Shopping Cart <br>\n",
    " &nbsp;&nbsp;&nbsp;&nbsp; b) Create Your Own Module <br>"
   ],
   "metadata": {}
  },
  {
   "cell_type": "markdown",
   "source": [
    "## Dictionary <br>\n",
    "<p>A collection of data with 'key:value' pairs. Dictionaries are ordered as of Python 3.6</p>"
   ],
   "metadata": {}
  },
  {
   "cell_type": "markdown",
   "source": [
    "##### Declaring (key, value)"
   ],
   "metadata": {}
  },
  {
   "cell_type": "code",
   "execution_count": 1,
   "source": [
    "# key : value pairs\n",
    "# keys should be unique\n",
    "# keys can use numbers or string\n",
    "\n",
    "d = {} #Empty dictionary\n",
    "d2 = dict()\n",
    "\n",
    "d3 = {\n",
    "    \"Dave\":\"255 Main St\",\n",
    "    \"Sean\":\"522 1st Ave\",\n",
    "    0 : \"This is a value for zero\"\n",
    "}\n",
    "d3"
   ],
   "outputs": [
    {
     "output_type": "execute_result",
     "data": {
      "text/plain": [
       "{'Dave': '255 Main St', 'Sean': '522 1st Ave', 0: 'This is a value for zero'}"
      ]
     },
     "metadata": {},
     "execution_count": 1
    }
   ],
   "metadata": {}
  },
  {
   "cell_type": "code",
   "execution_count": 2,
   "source": [
    "d = {} #Empty dictionary\n",
    "\n",
    "print(type(d))\n",
    "d = dict() #slower by a lot \n",
    "\n",
    "d1 = {\n",
    "    \"Key\":\"Value\",\n",
    "    \"name\":\"Steve\",\n",
    "    0:\"integer\"\n",
    "}\n",
    "\n",
    "print(d1)\n",
    "d = dict(key=\"Value\", name=\"Steve\")"
   ],
   "outputs": [
    {
     "output_type": "stream",
     "name": "stdout",
     "text": [
      "<class 'dict'>\n",
      "{'Key': 'Value', 'name': 'Steve', 0: 'integer'}\n"
     ]
    }
   ],
   "metadata": {}
  },
  {
   "cell_type": "markdown",
   "source": [
    "##### Accessing Values"
   ],
   "metadata": {}
  },
  {
   "cell_type": "markdown",
   "source": [],
   "metadata": {}
  },
  {
   "cell_type": "code",
   "execution_count": 3,
   "source": [
    "d1 = {\n",
    "    \"Key\":\"Value\",\n",
    "    \"name\":\"Steve\",\n",
    "    \"age\":55,\n",
    "    0:\"integer\"\n",
    "}\n",
    "#dicitonary[key] this gives you the value\n",
    "d1[\"name\"]"
   ],
   "outputs": [
    {
     "output_type": "execute_result",
     "data": {
      "text/plain": [
       "'Steve'"
      ]
     },
     "metadata": {},
     "execution_count": 3
    }
   ],
   "metadata": {}
  },
  {
   "cell_type": "code",
   "execution_count": 4,
   "source": [
    "d3[\"Dave\"]"
   ],
   "outputs": [
    {
     "output_type": "execute_result",
     "data": {
      "text/plain": [
       "'255 Main St'"
      ]
     },
     "metadata": {},
     "execution_count": 4
    }
   ],
   "metadata": {}
  },
  {
   "cell_type": "code",
   "execution_count": 5,
   "source": [
    "type(d3[0])"
   ],
   "outputs": [
    {
     "output_type": "execute_result",
     "data": {
      "text/plain": [
       "str"
      ]
     },
     "metadata": {},
     "execution_count": 5
    }
   ],
   "metadata": {
    "scrolled": true
   }
  },
  {
   "cell_type": "code",
   "execution_count": 6,
   "source": [
    "d3.get(\"Dave\")"
   ],
   "outputs": [
    {
     "output_type": "execute_result",
     "data": {
      "text/plain": [
       "'255 Main St'"
      ]
     },
     "metadata": {},
     "execution_count": 6
    }
   ],
   "metadata": {}
  },
  {
   "cell_type": "code",
   "execution_count": 7,
   "source": [
    "d3[\"Kevin\"]"
   ],
   "outputs": [
    {
     "output_type": "error",
     "ename": "KeyError",
     "evalue": "'Kevin'",
     "traceback": [
      "\u001b[1;31m---------------------------------------------------------------------------\u001b[0m",
      "\u001b[1;31mKeyError\u001b[0m                                  Traceback (most recent call last)",
      "\u001b[1;32m<ipython-input-7-fdc59698bb70>\u001b[0m in \u001b[0;36m<module>\u001b[1;34m\u001b[0m\n\u001b[1;32m----> 1\u001b[1;33m \u001b[0md3\u001b[0m\u001b[1;33m[\u001b[0m\u001b[1;34m\"Kevin\"\u001b[0m\u001b[1;33m]\u001b[0m\u001b[1;33m\u001b[0m\u001b[1;33m\u001b[0m\u001b[0m\n\u001b[0m",
      "\u001b[1;31mKeyError\u001b[0m: 'Kevin'"
     ]
    }
   ],
   "metadata": {
    "scrolled": true
   }
  },
  {
   "cell_type": "code",
   "execution_count": null,
   "source": [
    "print(d3.get(\"Kevin\"))"
   ],
   "outputs": [],
   "metadata": {}
  },
  {
   "cell_type": "markdown",
   "source": [
    "## In-Class Exercise #1 - Print a formatted statement from the dictionary below <br>\n",
    "<p>The output should be '2018 Chevrolet Silverado'</p>"
   ],
   "metadata": {}
  },
  {
   "cell_type": "code",
   "execution_count": null,
   "source": [
    "() #para\n",
    "[] #brackets\n",
    "{} #braces\n",
    "% #sometimes i call it grapes\n",
    "! # bang\n",
    "#! #shebang\n"
   ],
   "outputs": [],
   "metadata": {}
  },
  {
   "cell_type": "code",
   "execution_count": null,
   "source": [
    "#use the dict below\n",
    "#Output: I have a 2018 Chevrolet Silverado\n",
    "\n",
    "truck = {\n",
    "    'year': 2018,\n",
    "    'make': 'Cheverolet',\n",
    "    'model': 'Sivlerado',\n",
    "}\n",
    "\n",
    "print(f\"I have a {truck['year']} {truck['make']} {truck['model']}\")"
   ],
   "outputs": [],
   "metadata": {}
  },
  {
   "cell_type": "code",
   "execution_count": null,
   "source": [
    "# .get()\n",
    "truck = {\n",
    "    'year': 2018,\n",
    "    'make': 'Cheverolet',\n",
    "    'model': 'Sivlerado',\n",
    "}\n",
    "\n",
    "print(truck['year'])   #faster\n",
    "print(truck.get('year'))\n",
    "\n",
    "# truck['color']\n",
    "print(truck.get('color'))    #using .get to see if it exists if you get backnone its not there if you get back value its there\n",
    "print(truck.get('color','red')) #doesnt add color to dict but gives value to color as red\n"
   ],
   "outputs": [],
   "metadata": {}
  },
  {
   "cell_type": "markdown",
   "source": [
    "##### Adding New Pairs"
   ],
   "metadata": {}
  },
  {
   "cell_type": "code",
   "execution_count": null,
   "source": [
    "truck = {\n",
    "    'year': 2018,\n",
    "    'make': 'Cheverolet',\n",
    "    'model': 'Sivlerado',\n",
    "}\n",
    "\n",
    "truck['year'] = 2020    #this switched the value of year\n",
    "truck"
   ],
   "outputs": [],
   "metadata": {}
  },
  {
   "cell_type": "code",
   "execution_count": null,
   "source": [
    "truck['color'] = \"blue\"   #THIS ADDS TO DICTIONARY\n",
    "truck"
   ],
   "outputs": [],
   "metadata": {}
  },
  {
   "cell_type": "code",
   "execution_count": null,
   "source": [
    "truck.update({'milage':100000}) #giving dictionary to update so it knows what to do\n",
    "print(truck)"
   ],
   "outputs": [],
   "metadata": {}
  },
  {
   "cell_type": "code",
   "execution_count": null,
   "source": [
    "truck.update(wheels = 4)\n",
    "print(truck)"
   ],
   "outputs": [],
   "metadata": {}
  },
  {
   "cell_type": "code",
   "execution_count": null,
   "source": [],
   "outputs": [],
   "metadata": {}
  },
  {
   "cell_type": "code",
   "execution_count": null,
   "source": [
    "d3['Bob']=\"222 W Ontario St\"\n",
    "d3"
   ],
   "outputs": [],
   "metadata": {}
  },
  {
   "cell_type": "code",
   "execution_count": null,
   "source": [
    "d3.update({\"Jesus\":\"45 awesome st.\"})\n",
    "d3"
   ],
   "outputs": [],
   "metadata": {}
  },
  {
   "cell_type": "code",
   "execution_count": null,
   "source": [
    "d3.update(joker=\"123 fake St.\")\n",
    "d3\n"
   ],
   "outputs": [],
   "metadata": {}
  },
  {
   "cell_type": "markdown",
   "source": [
    "##### Modifying Values"
   ],
   "metadata": {}
  },
  {
   "cell_type": "code",
   "execution_count": null,
   "source": [
    "truck = {\n",
    "    'year': 2018,\n",
    "    'make': 'Cheverolet',\n",
    "    'model': 'Sivlerado',\n",
    "}\n",
    "\n",
    "truck['make']=\"Chevy\"\n",
    "print(truck)"
   ],
   "outputs": [],
   "metadata": {}
  },
  {
   "cell_type": "code",
   "execution_count": null,
   "source": [
    "truck.update(make=\"ford\")\n",
    "print(truck)"
   ],
   "outputs": [],
   "metadata": {}
  },
  {
   "cell_type": "code",
   "execution_count": null,
   "source": [],
   "outputs": [],
   "metadata": {}
  },
  {
   "cell_type": "code",
   "execution_count": null,
   "source": [
    "#dict[existing key] = new value\n",
    "d3[\"Bob\"]= \"12345 noname rd\"\n",
    "d3"
   ],
   "outputs": [],
   "metadata": {
    "scrolled": true
   }
  },
  {
   "cell_type": "code",
   "execution_count": null,
   "source": [
    "d3.update(Bob=\"5454 loins ter.\")\n",
    "d3"
   ],
   "outputs": [],
   "metadata": {}
  },
  {
   "cell_type": "markdown",
   "source": [
    "##### Removing Key, Value Pairs"
   ],
   "metadata": {}
  },
  {
   "cell_type": "code",
   "execution_count": null,
   "source": [
    "#del dict[key]\n",
    "\n",
    "del truck['year']   #this deletes value year\n",
    "print(truck)"
   ],
   "outputs": [],
   "metadata": {}
  },
  {
   "cell_type": "code",
   "execution_count": null,
   "source": [
    "# del dict[key]\n",
    "del d3[\"Bob\"]\n",
    "d3"
   ],
   "outputs": [],
   "metadata": {}
  },
  {
   "cell_type": "markdown",
   "source": [
    "##### Looping a Dictionary"
   ],
   "metadata": {}
  },
  {
   "cell_type": "code",
   "execution_count": null,
   "source": [
    "x, y =(1,2)  #first spot =x seocnd= y\n",
    "print(x)\n",
    "print(y)"
   ],
   "outputs": [],
   "metadata": {}
  },
  {
   "cell_type": "code",
   "execution_count": null,
   "source": [
    "# .items()\n",
    "truck.items()   #loops through WHOLE DICT\n",
    "\n",
    "for tup in truck.items():\n",
    "    print(\"key is\",tup[0], \"and the value is\",tup[1])"
   ],
   "outputs": [],
   "metadata": {}
  },
  {
   "cell_type": "code",
   "execution_count": null,
   "source": [
    "# .items()\n",
    "truck.items()   #loops through WHOLE DICT   #this way is better than ex above\n",
    "\n",
    "for key, value in truck.items():\n",
    "    print(\"key is\",key, \"and the value is\",value)"
   ],
   "outputs": [],
   "metadata": {}
  },
  {
   "cell_type": "code",
   "execution_count": null,
   "source": [
    "#LOOPING ONLY KEYS\n",
    "\n",
    "truck = {\n",
    "    'year': 2018,\n",
    "    'make': 'Cheverolet',\n",
    "    'model': 'Sivlerado',\n",
    "}\n",
    "\n",
    "# .keys()\n",
    "for key in truck:\n",
    "    print(\"the key is\", key)\n",
    "    print(\"the value is\",truck[key])\n"
   ],
   "outputs": [],
   "metadata": {}
  },
  {
   "cell_type": "code",
   "execution_count": null,
   "source": [],
   "outputs": [],
   "metadata": {}
  },
  {
   "cell_type": "code",
   "execution_count": null,
   "source": [
    "for key in truck.keys():   #looping over keys\n",
    "    print(key)"
   ],
   "outputs": [],
   "metadata": {}
  },
  {
   "cell_type": "code",
   "execution_count": null,
   "source": [
    "#.values()\n",
    "truck.values()\n",
    "\n",
    "for value in truck.values():\n",
    "    print(value)"
   ],
   "outputs": [],
   "metadata": {}
  },
  {
   "cell_type": "code",
   "execution_count": null,
   "source": [
    "# .items()\n",
    "# a, b, c = 1, 2, 3\n",
    "# print(a)\n",
    "# print(b)\n",
    "# print(c)\n",
    "\n",
    "for k, v in d3.items():\n",
    "    print(k,v)\n",
    "d3"
   ],
   "outputs": [],
   "metadata": {}
  },
  {
   "cell_type": "markdown",
   "source": [
    "##### Looping Only Keys"
   ],
   "metadata": {}
  },
  {
   "cell_type": "code",
   "execution_count": null,
   "source": [
    "# .keys()\n",
    "for key in d3.keys():\n",
    "    print(key)"
   ],
   "outputs": [],
   "metadata": {
    "scrolled": true
   }
  },
  {
   "cell_type": "code",
   "execution_count": null,
   "source": [],
   "outputs": [],
   "metadata": {}
  },
  {
   "cell_type": "markdown",
   "source": [
    "##### Looping Only Values"
   ],
   "metadata": {}
  },
  {
   "cell_type": "code",
   "execution_count": null,
   "source": [
    "for value in d3.values():\n",
    "    print(value)"
   ],
   "outputs": [],
   "metadata": {}
  },
  {
   "cell_type": "markdown",
   "source": [
    "## In-Class Exercise #2 - Create a Function that Prints All Key Value Pairs within formatted string <br>\n",
    "<p><b>Output should be:</b><br>\n",
    "Max has blue eyes<br>\n",
    "Lilly has brown eyes<br>\n",
    "Barney has blue eyes<br>\n",
    "etc.\n",
    "</p>"
   ],
   "metadata": {}
  },
  {
   "cell_type": "code",
   "execution_count": null,
   "source": [
    "# use the dict below\n",
    "\n",
    "people = {\n",
    "    'Max': 'blue',\n",
    "    'Lilly': 'brown',\n",
    "    'Barney': 'blue',\n",
    "    'Larney': 'brown',\n",
    "    'Ted': 'purple'\n",
    "}\n",
    "\n",
    "# loop  over dicitonary\n",
    "\n",
    "for key, value in people.items():\n",
    "    #create and print sentence \"[key] has [value] eyes\" for each item\n",
    "    print(f\"{key} has {value} eyes\")\n",
    "    \n",
    "   \n"
   ],
   "outputs": [],
   "metadata": {}
  },
  {
   "cell_type": "code",
   "execution_count": null,
   "source": [
    "# use the dict below\n",
    "\n",
    "people = {\n",
    "    'Max': 'blue',\n",
    "    'Lilly': 'brown',\n",
    "    'Barney': 'blue',\n",
    "    'Larney': 'brown',\n",
    "    'Ted': 'purple'\n",
    "}\n",
    "\n",
    "# loop  over dicitonary  #DIFFERENT WAY TO WORD IT SAME AS ABOVE\n",
    "\n",
    "def eye_colors(d):\n",
    "    for name, eye_color in people.items():\n",
    "        #create and print sentence \"[key] has [value] eyes\" for each item\n",
    "        print(f\"{key} has {value} eyes\")\n",
    "\n",
    "eye_colors(people)"
   ],
   "outputs": [],
   "metadata": {}
  },
  {
   "cell_type": "markdown",
   "source": [
    "##### sorted()"
   ],
   "metadata": {}
  },
  {
   "cell_type": "code",
   "execution_count": null,
   "source": [],
   "outputs": [],
   "metadata": {}
  },
  {
   "cell_type": "code",
   "execution_count": null,
   "source": [
    "# sorts variables in order\n",
    "# sorted(dict.values()) or dict.keys() or dict.items()\n",
    "print(sorted(people.items()))\n",
    "print(sorted(people.values()))\n",
    "print(sorted(people.keys()))"
   ],
   "outputs": [],
   "metadata": {}
  },
  {
   "cell_type": "code",
   "execution_count": null,
   "source": [
    "print(\n",
    " sorted(people) #keys sorted \n",
    ")\n",
    "\n",
    "print(\n",
    "    sorted(people.keys()) #keys sorted\n",
    ")\n",
    "\n",
    "print(\n",
    "    sorted(people.values())\n",
    ")\n",
    "\n",
    "print(\n",
    "    sorted(people.items()) #sorts by the key\n",
    ")\n",
    "\n",
    "print(people)\n",
    "people = dict(sorted(people.items()))   #this dictionary is now sorterd\n",
    "print(people)"
   ],
   "outputs": [],
   "metadata": {}
  },
  {
   "cell_type": "markdown",
   "source": [
    "##### List with Dictionaries"
   ],
   "metadata": {}
  },
  {
   "cell_type": "code",
   "execution_count": null,
   "source": [
    "names = ['dave', 'randy','greg', {'random_guy': 'robert', 'another_guy': 'travis'}]\n",
    "print(names[3])    #values of postion 3 is entire dictionary\n",
    "print(type(names[3]))\n",
    "print(names[3][\"random_guy\"])"
   ],
   "outputs": [],
   "metadata": {}
  },
  {
   "cell_type": "code",
   "execution_count": null,
   "source": [
    "names = ['dave', 'randy','greg', {'random_guy': 'robert', 'another_guy': 'travis'}]\n",
    "inner_dict = names[3]\n",
    "print(inner_dict)\n",
    "inner_dict[\"random_guy\"]"
   ],
   "outputs": [],
   "metadata": {}
  },
  {
   "cell_type": "code",
   "execution_count": null,
   "source": [
    "names = ['dave', 'randy','greg', {'random_guy': 'robert', 'another_guy': 'travis'}]\n",
    "my_dict=names[3]\n",
    "my_dict[\"random_guy\"]\n",
    "print(names[3][\"random_guy\"])"
   ],
   "outputs": [],
   "metadata": {}
  },
  {
   "cell_type": "code",
   "execution_count": null,
   "source": [
    "all_items=[\n",
    "    {\"name\":\"Item A\", \"price\":2.99},\n",
    "    {\"name\":\"Item B\", \"price\":13.99},\n",
    "    {\"name\":\"Item C\", \"price\":19.99},\n",
    "    \n",
    "]\n",
    "\n",
    "for item in all_items:\n",
    "    print(item['name'], item['price'])"
   ],
   "outputs": [],
   "metadata": {}
  },
  {
   "cell_type": "markdown",
   "source": [
    "##### Dictionaries with Lists"
   ],
   "metadata": {}
  },
  {
   "cell_type": "code",
   "execution_count": null,
   "source": [
    "# be careful when using numbers as keys in dictionaries, don't confuse them with indexes\n",
    "\n",
    "d5 ={\n",
    "    \"students\":[\"mark\", \"Natasha\", \"Toan\"],   #list inside a dictionary  #THIS WILL  BE ON ASSIGNMENT!!!!!\n",
    "    \"age\":[22,55,6]\n",
    "}\n",
    "\n",
    "print(d5[\"students\"][1])\n",
    "\n",
    "d5[\"age\"][0]"
   ],
   "outputs": [],
   "metadata": {}
  },
  {
   "cell_type": "code",
   "execution_count": null,
   "source": [
    "# be careful when using numbers as keys in dictionaries, don't confuse them with indexes\n",
    "d5={\n",
    "    \"groupA\":[1,2,3,4],\n",
    "    \"groupB\":[\"Chris\",\"Benny\",\"Leo\"]\n",
    "}\n",
    "\n",
    "d5[\"groupA\"][2]\n",
    "d5[\"groupB\"].append(\"Sydney\")\n",
    "d5"
   ],
   "outputs": [],
   "metadata": {}
  },
  {
   "cell_type": "markdown",
   "source": [
    "##### Dictionaries with Dictionaries"
   ],
   "metadata": {}
  },
  {
   "cell_type": "code",
   "execution_count": null,
   "source": [],
   "outputs": [],
   "metadata": {}
  },
  {
   "cell_type": "code",
   "execution_count": null,
   "source": [
    "# to get values, must traverse through keys\n",
    "d6={\n",
    "    \"random\":1234,\n",
    "    \"ice_cream\":{\n",
    "        \"choc\":2.99,\n",
    "        \"van\":3.99,\n",
    "        \"Oreo\":{\"large\":6.99, \"small\":[2.99,4.99]}\n",
    "    }\n",
    "}\n",
    "\n",
    "print(d6[\"ice_cream\"][\"choc\"])    #name of dict + [key] to get icecream price\n",
    "print(d6[\"ice_cream\"][\"Oreo\"]['large'])\n",
    "print(d6[\"ice_cream\"][\"Oreo\"]['small'][1])\n"
   ],
   "outputs": [],
   "metadata": {}
  },
  {
   "cell_type": "markdown",
   "source": [
    "## Using Python's Hashing Function"
   ],
   "metadata": {}
  },
  {
   "cell_type": "code",
   "execution_count": null,
   "source": [
    "# hash(var)\n",
    "help(hash)\n"
   ],
   "outputs": [],
   "metadata": {}
  },
  {
   "cell_type": "code",
   "execution_count": null,
   "source": [
    "a = \"Bo\"\n",
    "b = \"Bob\"\n",
    "c = \"Bo\"\n",
    "d = \"Bob\"\n",
    "\n",
    "print(hash(a))    #a and c are =, b and d hash value is =\n",
    "print(hash(b))\n",
    "print(hash(c))\n",
    "print(hash(d))\n",
    "\n",
    "d7={\"Bob\":123, \"nate\":987}\n",
    "\n",
    "if \"Bob\" in d7:\n",
    "    print(\"yes\")\n",
    "else:\n",
    "    print(\"no\")"
   ],
   "outputs": [],
   "metadata": {}
  },
  {
   "cell_type": "code",
   "execution_count": null,
   "source": [
    "# hash(var)\n",
    "a = \"Bo\"\n",
    "b = \"Bob\"\n",
    "c= \"Bo\"\n",
    "print(hash(a))\n",
    "print(hash(b))\n",
    "print(hash(c))\n",
    "\n",
    "d7={'Bob':123,\n",
    "    \"Nate\":987}\n",
    "if \"Bob\" in d7:\n",
    "    print(\"yes\")\n",
    "else:\n",
    "    print(\"no\")\n",
    "    \n",
    "for key in d5.keys():\n",
    "    print(hash(key and y))"
   ],
   "outputs": [],
   "metadata": {}
  },
  {
   "cell_type": "code",
   "execution_count": null,
   "source": [
    "# While loops\n",
    "my_items=[]\n",
    "while True:\n",
    "    \n",
    "        response = input(\"What do you want to do add or remove or quit? \")\n",
    "   \n",
    "        if response == 'quit' :\n",
    "            break      #loop is over\n",
    "\n",
    "        elif response == 'add':\n",
    "            item=input(\"What do you want to add? \").strip()\n",
    "            my_items.append(item)\n",
    "\n",
    "\n",
    "        elif response == 'remove':\n",
    "            item=input(\"what do you want to remove? \").strip()\n",
    "            my_items.remove(item)\n",
    "        print(\"your items: \",my_items)\n"
   ],
   "outputs": [],
   "metadata": {}
  },
  {
   "cell_type": "raw",
   "source": [
    "## Exercise #3 - Write a Function that asks someone's name and address, and then stores that into a dictionary, and continues to do so until they choose to 'quit'. Once they quit, the program should print all names and addresses. <br>\n",
    "<p>\n",
    "<b>Proper steps:</b><br>\n",
    "step 1: write a function that takes in information and stores it in a dictionary<br>\n",
    "step 2: define an empty dictionary to work with<br>\n",
    "step 3: create our loop, which asks the user for information until they quit<br>\n",
    "step 4: ask for the information, and store it into variables<br>\n",
    "step 5: check if the user types quit<br>\n",
    "step 5a: print out all information<br>\n",
    "step 5b: break out of the loop<br>\n",
    "step 6: if they didn't quit, add the information to the dictionary<br>\n",
    "step 7: invoke the function by calling it\n",
    "</p>"
   ],
   "metadata": {}
  },
  {
   "cell_type": "code",
   "execution_count": null,
   "source": [
    "from IPython.display import clear_output\n",
    "\n",
    "for i in range(4):\n",
    "    clear_output()\n",
    "    print(i)"
   ],
   "outputs": [],
   "metadata": {}
  },
  {
   "cell_type": "code",
   "execution_count": null,
   "source": [
    "from IPython.display import clear_output #This module will clear all  pre-existing outouf form you program\n",
    "\n",
    "def address_book_function(): #declared function\n",
    "    address_book={} #made empty dict\n",
    "    while True:    #made a while loop that will go until it breaks\n",
    "        clear_output()\n",
    "        name = input(\"What is your name? \").strip()  #strip prevents extra spaces\n",
    "        if name.lower() == 'quit' :\n",
    "            print(address_book)\n",
    "            break\n",
    "        address = input(\"What  is your  address? \").strip()\n",
    "        if address.lower()=='quit':\n",
    "            print(address_book)\n",
    "            break\n",
    "        address_book[name]=address #return address book\n",
    "    return address_book #func will be over\n",
    "\n",
    "address_book_function()"
   ],
   "outputs": [],
   "metadata": {}
  },
  {
   "cell_type": "markdown",
   "source": [
    "## Set <br>\n",
    "<p>A Set is an unordered collection data type that is iterable (loop), mutable, and has no duplicate elements.<br>Major advantage is that it is highly optimized in checking if something is in the set, as opposed to checking if something is in a list.</p>"
   ],
   "metadata": {}
  },
  {
   "cell_type": "markdown",
   "source": [
    "##### Declaring"
   ],
   "metadata": {}
  },
  {
   "cell_type": "code",
   "execution_count": null,
   "source": [
    "my_set = set()\n",
    "print(type(my_set))\n",
    "\n",
    "# this is not a set\n",
    "my_set2 = {}   #noooo\n",
    "print(type(my_set2))\n",
    "\n",
    "my_set3={\"Austin\",\"Tara\",\"tana\",\"Hillary\",\"Hillary\"}\n",
    "print(my_set3)    #takes out dupes"
   ],
   "outputs": [],
   "metadata": {}
  },
  {
   "cell_type": "code",
   "execution_count": null,
   "source": [
    "# set() or {}\n",
    "# no order {3, 2, 1} outputs as {1, 2, 3}\n",
    "my_set1 = set()\n",
    "\n",
    "\n",
    "# Not This\n",
    "my_set2 = {} \n",
    "\n",
    "my_set3 = {\"Kevin\", \"Vicky\",\"Josh\"}\n",
    "\n",
    "print(type(my_set1))\n",
    "print(type(my_set2))\n",
    "print(type(my_set3))\n"
   ],
   "outputs": [],
   "metadata": {}
  },
  {
   "cell_type": "code",
   "execution_count": null,
   "source": [
    "s={3,2,1}\n",
    "s"
   ],
   "outputs": [],
   "metadata": {}
  },
  {
   "cell_type": "markdown",
   "source": [
    "##### .add()"
   ],
   "metadata": {}
  },
  {
   "cell_type": "code",
   "execution_count": 8,
   "source": [
    "# set.add()\n",
    "my_set3.add(\"Leo\")\n",
    "my_set3"
   ],
   "outputs": [
    {
     "output_type": "error",
     "ename": "NameError",
     "evalue": "name 'my_set3' is not defined",
     "traceback": [
      "\u001b[1;31m---------------------------------------------------------------------------\u001b[0m",
      "\u001b[1;31mNameError\u001b[0m                                 Traceback (most recent call last)",
      "\u001b[1;32m<ipython-input-8-67b5b0ff0ebb>\u001b[0m in \u001b[0;36m<module>\u001b[1;34m\u001b[0m\n\u001b[0;32m      1\u001b[0m \u001b[1;31m# set.add()\u001b[0m\u001b[1;33m\u001b[0m\u001b[1;33m\u001b[0m\u001b[1;33m\u001b[0m\u001b[0m\n\u001b[1;32m----> 2\u001b[1;33m \u001b[0mmy_set3\u001b[0m\u001b[1;33m.\u001b[0m\u001b[0madd\u001b[0m\u001b[1;33m(\u001b[0m\u001b[1;34m\"Leo\"\u001b[0m\u001b[1;33m)\u001b[0m\u001b[1;33m\u001b[0m\u001b[1;33m\u001b[0m\u001b[0m\n\u001b[0m\u001b[0;32m      3\u001b[0m \u001b[0mmy_set3\u001b[0m\u001b[1;33m\u001b[0m\u001b[1;33m\u001b[0m\u001b[0m\n",
      "\u001b[1;31mNameError\u001b[0m: name 'my_set3' is not defined"
     ]
    }
   ],
   "metadata": {}
  },
  {
   "cell_type": "markdown",
   "source": [
    "##### .remove()"
   ],
   "metadata": {}
  },
  {
   "cell_type": "code",
   "execution_count": null,
   "source": [
    "# removes by value\n",
    "# set.remove()\n",
    "# nums.remove(56)\n",
    "my_set3.remove(\"tana\")\n",
    "my_set3\n"
   ],
   "outputs": [],
   "metadata": {}
  },
  {
   "cell_type": "markdown",
   "source": [
    "##### .union() "
   ],
   "metadata": {}
  },
  {
   "cell_type": "code",
   "execution_count": null,
   "source": [
    "# Returns a union of two sets, can also use '|' or set.union(set)\n",
    "# joins all numbers, gets rid of duplicates\n",
    "# DONT USE empty {} in a set \n",
    "set1 = {1,2,3,4}\n",
    "set2 = {3,4,5,6}\n",
    "set3= set1 | set2\n",
    "print(set3)\n",
    "set4=set1.union(set2)\n",
    "print(set4)"
   ],
   "outputs": [],
   "metadata": {}
  },
  {
   "cell_type": "code",
   "execution_count": null,
   "source": [
    "set1 = {1,2,3,4}\n",
    "set2 = {3,4,5,6}\n",
    "\n",
    "unioned_set=set1.union(set2)\n",
    "print(unioned_set)\n",
    "\n",
    "unioned_set=set2.union(set1)\n",
    "print(unioned_set)\n",
    "\n",
    "u_set=set2 | set1\n",
    "print(u_set)"
   ],
   "outputs": [],
   "metadata": {}
  },
  {
   "cell_type": "markdown",
   "source": [
    "##### .intersection()"
   ],
   "metadata": {}
  },
  {
   "cell_type": "code",
   "execution_count": null,
   "source": [
    "# Returns an intersection of two sets, can also use '&'\n",
    "# only takes similar elements from both sets\n",
    "set1 = {1,2,3,4,5,6}\n",
    "set2 = {1,2,3,4}\n",
    "set1.intersection(set2)"
   ],
   "outputs": [],
   "metadata": {}
  },
  {
   "cell_type": "code",
   "execution_count": null,
   "source": [
    "set1 & set2"
   ],
   "outputs": [],
   "metadata": {}
  },
  {
   "cell_type": "markdown",
   "source": [
    "##### .difference()"
   ],
   "metadata": {}
  },
  {
   "cell_type": "code",
   "execution_count": null,
   "source": [
    "# Returns a set containing all the elements of invoking set that are not in the second set, can also use '-'\n",
    "# only takes values from the first set that are not in the second set\n",
    "# order matters\n",
    "\n",
    "set1 = {1,2,3,4,5,6}\n",
    "set2 = {1,2,3,4}\n",
    "set2.difference(set1) #nothing\n",
    "set1.difference(set2) # 5 and 6"
   ],
   "outputs": [],
   "metadata": {}
  },
  {
   "cell_type": "markdown",
   "source": [
    "##### .clear()"
   ],
   "metadata": {}
  },
  {
   "cell_type": "code",
   "execution_count": null,
   "source": [
    "# Empties the whole set\n",
    "# set.clear()\n",
    "set1.clear()\n",
    "set1"
   ],
   "outputs": [],
   "metadata": {}
  },
  {
   "cell_type": "code",
   "execution_count": null,
   "source": [
    "# Empties the whole set\n",
    "# set.clear()\n",
    "set1.clear()\n",
    "print(set1)"
   ],
   "outputs": [],
   "metadata": {}
  },
  {
   "cell_type": "code",
   "execution_count": null,
   "source": [
    "my_set3 ={\"Austin\",\"Jesus\",\"Mike\",\"Mike\"}\n",
    "\n",
    "    \"Austin\" in my_set3\n",
    "    #fast\n",
    "\n",
    "    #below is SLOW\n",
    "    my_list = [\"Austin\",\"Jesus\",\"Mike\",\"Mike\"]\n",
    "    \"Austin\" in my_list\n",
    "\n",
    "    # in background\n",
    "    for name in my_list:\n",
    "        if name ==\"Austin\":\n",
    "            return True"
   ],
   "outputs": [],
   "metadata": {}
  },
  {
   "cell_type": "code",
   "execution_count": null,
   "source": [
    "set([1,1,1,1,3,3,3,4,5])"
   ],
   "outputs": [],
   "metadata": {}
  },
  {
   "cell_type": "markdown",
   "source": [
    "##### Frozenset <br>\n",
    "<p>Frozen sets are immutable objects that only support methods and operators that produce a result without affecting the frozen set or sets to which they are applied.</p><br><b>Unique & Immutable</b>"
   ],
   "metadata": {}
  },
  {
   "cell_type": "code",
   "execution_count": null,
   "source": [
    "set2"
   ],
   "outputs": [],
   "metadata": {
    "scrolled": true
   }
  },
  {
   "cell_type": "code",
   "execution_count": null,
   "source": [],
   "outputs": [],
   "metadata": {}
  },
  {
   "cell_type": "code",
   "execution_count": null,
   "source": [
    "# frozenset([])\n",
    "s3 = {1,2,3,4,5,6}\n",
    "s3=frozenset(s3)\n"
   ],
   "outputs": [],
   "metadata": {}
  },
  {
   "cell_type": "code",
   "execution_count": null,
   "source": [
    "# frozen sets are immutable!\n",
    "s3.add(\"Joe\") \n",
    "s3"
   ],
   "outputs": [],
   "metadata": {}
  },
  {
   "cell_type": "markdown",
   "source": [
    "## Modules"
   ],
   "metadata": {}
  },
  {
   "cell_type": "markdown",
   "source": [
    "##### Importing Entire Modules"
   ],
   "metadata": {}
  },
  {
   "cell_type": "code",
   "execution_count": null,
   "source": [
    "from math import * # Gotten everything.. probably not wise\n",
    "pi"
   ],
   "outputs": [],
   "metadata": {}
  },
  {
   "cell_type": "code",
   "execution_count": null,
   "source": [
    "from math import pi, floor, ceil as c  #dont use comma at end  #BEST WAY TO DO --putting as replaces ceil with c\n",
    "pi\n",
    "floor(3.4)\n",
    "c(3.4)"
   ],
   "outputs": [],
   "metadata": {}
  },
  {
   "cell_type": "code",
   "execution_count": null,
   "source": [
    "# import or from 'xxx' import *\n",
    "# import math\n",
    "import math\n",
    "\n",
    "print(math.pi)\n",
    "print(math.floor(math.pi))"
   ],
   "outputs": [],
   "metadata": {}
  },
  {
   "cell_type": "code",
   "execution_count": null,
   "source": [
    "import math\n",
    "\n",
    "print(math.pi)\n",
    "pi\n",
    "print(math.floor(5/2))  #floor will round down\n",
    "print(math.ceil(math.)) #floor will round up"
   ],
   "outputs": [],
   "metadata": {}
  },
  {
   "cell_type": "code",
   "execution_count": null,
   "source": [
    "import pandas as pd\n",
    "import matplotlib as plt"
   ],
   "outputs": [],
   "metadata": {}
  },
  {
   "cell_type": "code",
   "execution_count": null,
   "source": [
    "# new text file my_mod.py from file screen"
   ],
   "outputs": [],
   "metadata": {}
  },
  {
   "cell_type": "markdown",
   "source": [
    "##### Importing Methods Only"
   ],
   "metadata": {}
  },
  {
   "cell_type": "code",
   "execution_count": null,
   "source": [
    "# from 'xxx' import 'xxx'\n",
    "# from math import floor\n",
    "from math import floor, pi\n",
    "print(pi)\n",
    "print(floor(pi))"
   ],
   "outputs": [],
   "metadata": {}
  },
  {
   "cell_type": "markdown",
   "source": [
    "##### Using the 'as' Keyword"
   ],
   "metadata": {}
  },
  {
   "cell_type": "code",
   "execution_count": null,
   "source": [
    "# from 'xxx' import 'xxx' as 'xxx' or import 'xxx' as 'xxx'\n",
    "# from math import floor as f\n",
    "from math import pi as pi_from_math\n",
    "\n",
    "print(pi_from_math)\n",
    "print(pi) #should not work"
   ],
   "outputs": [],
   "metadata": {}
  },
  {
   "cell_type": "markdown",
   "source": [
    "##### Creating a Module"
   ],
   "metadata": {}
  },
  {
   "cell_type": "code",
   "execution_count": 16,
   "source": [
    "import my_mod\n",
    "my_mod.say_hello(\"McCall\")\n",
    "my_mod.say_goodbye(\"McCall\")\n"
   ],
   "outputs": [
    {
     "output_type": "stream",
     "name": "stdout",
     "text": [
      "Hello McCall\n",
      "Goodbye McCall\n"
     ]
    }
   ],
   "metadata": {}
  },
  {
   "cell_type": "code",
   "execution_count": null,
   "source": [
    "from my_mod import say_hello, say_goodbye , area  #from is first import is second\n",
    "say_hello(\"Steve\")\n",
    "say_goodbye(\"Steve\")"
   ],
   "outputs": [],
   "metadata": {}
  },
  {
   "cell_type": "markdown",
   "source": [
    "# Exercises"
   ],
   "metadata": {}
  },
  {
   "cell_type": "markdown",
   "source": [
    "### 1) Build a Shopping Cart <br>\n",
    "<p><b>You can use either lists or dictionaries. The program should have the following capabilities:</b><br><br>\n",
    "1) Takes in input <br>\n",
    "2) Stores user input into a dictionary or list <br>\n",
    "3) The User can add or delete items <br>\n",
    "4) The User can see current shopping list <br>\n",
    "5) The program Loops until user 'quits' <br>\n",
    "6) Upon quiting the program, print out all items in the user's list <br>\n",
    "</p>"
   ],
   "metadata": {}
  },
  {
   "cell_type": "code",
   "execution_count": null,
   "source": [
    "from IPython.display import clear_output\n",
    "\n",
    "# Ask the user four bits of input: Do you want to : Show/Add/Delete or Quit?"
   ],
   "outputs": [],
   "metadata": {}
  },
  {
   "cell_type": "code",
   "execution_count": null,
   "source": [
    "def shopping_book_function(): #declared function\n",
    "    shopping_cart={} #made empty dict\n",
    "    while True:    #made a while loop that will go until it breaks\n",
    "        clear_output()\n",
    "        name = input(\"What is your name? \").strip()  #strip prevents extra spaces\n",
    "        if name.lower() == 'quit' :\n",
    "            print(address_book)\n",
    "            break\n",
    "        address = input(\"What  is your  address? \").strip()\n",
    "        if address.lower()=='quit':\n",
    "            print(address_book)\n",
    "            break\n",
    "        address_book[name]=address #return address book\n",
    "    return address_book #func will be over\n",
    "\n",
    "address_book_function()"
   ],
   "outputs": [],
   "metadata": {}
  },
  {
   "cell_type": "markdown",
   "source": [
    "### 2) Create a Module in VS Code and Import It into jupyter notebook <br>\n",
    "<p><b>Module should have the following capabilities:</b><br><br>\n",
    "1) Has a function to calculate the square footage of a house <br>\n",
    "    <b>Reminder of Formula: Length X Width == Area<br>\n",
    "        <hr>\n",
    "2) Has a function to calculate the circumference of a circle <br><br>\n",
    "<b>Program in Jupyter Notebook should take in user input and use imported functions to calculate a circle's circumference or a houses square footage</b>\n",
    "</p>"
   ],
   "metadata": {}
  },
  {
   "cell_type": "code",
   "execution_count": null,
   "source": [
    "\n"
   ],
   "outputs": [],
   "metadata": {}
  },
  {
   "cell_type": "code",
   "execution_count": null,
   "source": [
    "import my_mod\r\n",
    "length = int(input(\"What is the length of the House in feet? \"))\r\n",
    "width = int(input(\"What is the width of the House in feet? \"))\r\n",
    "result = length * width\r\n",
    "\r\n",
    "\r\n",
    "print(\"You entered dimensions of \" + str(length) + str(\" feet by \") + str(width) +str(\" feet.\"))\r\n",
    "print(\"The area is \" + str(result) + \" square feet.\")"
   ],
   "outputs": [],
   "metadata": {
    "scrolled": true
   }
  },
  {
   "cell_type": "code",
   "execution_count": null,
   "source": [],
   "outputs": [],
   "metadata": {}
  },
  {
   "cell_type": "code",
   "execution_count": 23,
   "source": [
    "import my_mod\r\n",
    "import math\r\n",
    "r = int(input(' Please Enter the radius of a circle: '))\r\n",
    "area = math.pi * r * r\r\n",
    "circumference = 2 * math.pi * r\r\n",
    "print(\" Area Of a Circle = %.2f\" %area)\r\n",
    "print(\" Circumference Of a Circle = %.2f\" %circumference)\r\n"
   ],
   "outputs": [
    {
     "output_type": "error",
     "ename": "AttributeError",
     "evalue": "module 'my_mod' has no attribute 'findCircum'",
     "traceback": [
      "\u001b[1;31m---------------------------------------------------------------------------\u001b[0m",
      "\u001b[1;31mAttributeError\u001b[0m                            Traceback (most recent call last)",
      "\u001b[1;32m<ipython-input-23-cfedf8012b08>\u001b[0m in \u001b[0;36m<module>\u001b[1;34m\u001b[0m\n\u001b[0;32m      1\u001b[0m \u001b[1;32mimport\u001b[0m \u001b[0mmy_mod\u001b[0m\u001b[1;33m\u001b[0m\u001b[1;33m\u001b[0m\u001b[0m\n\u001b[0;32m      2\u001b[0m \u001b[1;33m\u001b[0m\u001b[0m\n\u001b[1;32m----> 3\u001b[1;33m \u001b[0mmy_mod\u001b[0m\u001b[1;33m.\u001b[0m\u001b[0mfindCircum\u001b[0m\u001b[1;33m(\u001b[0m\u001b[1;33m)\u001b[0m\u001b[1;33m\u001b[0m\u001b[1;33m\u001b[0m\u001b[0m\n\u001b[0m",
      "\u001b[1;31mAttributeError\u001b[0m: module 'my_mod' has no attribute 'findCircum'"
     ]
    }
   ],
   "metadata": {}
  },
  {
   "cell_type": "code",
   "execution_count": null,
   "source": [],
   "outputs": [],
   "metadata": {}
  },
  {
   "cell_type": "code",
   "execution_count": null,
   "source": [],
   "outputs": [],
   "metadata": {}
  },
  {
   "cell_type": "code",
   "execution_count": null,
   "source": [],
   "outputs": [],
   "metadata": {}
  }
 ],
 "metadata": {
  "kernelspec": {
   "display_name": "Python 3",
   "language": "python",
   "name": "python3"
  },
  "language_info": {
   "codemirror_mode": {
    "name": "ipython",
    "version": 3
   },
   "file_extension": ".py",
   "mimetype": "text/x-python",
   "name": "python",
   "nbconvert_exporter": "python",
   "pygments_lexer": "ipython3",
   "version": "3.8.8"
  }
 },
 "nbformat": 4,
 "nbformat_minor": 2
}